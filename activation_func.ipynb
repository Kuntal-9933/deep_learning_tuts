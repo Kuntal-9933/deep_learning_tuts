{
  "nbformat": 4,
  "nbformat_minor": 0,
  "metadata": {
    "colab": {
      "provenance": [],
      "authorship_tag": "ABX9TyNRsDIHE866RlbK0Q/PxNtr",
      "include_colab_link": true
    },
    "kernelspec": {
      "name": "python3",
      "display_name": "Python 3"
    },
    "language_info": {
      "name": "python"
    }
  },
  "cells": [
    {
      "cell_type": "markdown",
      "metadata": {
        "id": "view-in-github",
        "colab_type": "text"
      },
      "source": [
        "<a href=\"https://colab.research.google.com/github/Kuntal-9933/deep_learning_tuts/blob/main/activation_func.ipynb\" target=\"_parent\"><img src=\"https://colab.research.google.com/assets/colab-badge.svg\" alt=\"Open In Colab\"/></a>"
      ]
    },
    {
      "cell_type": "markdown",
      "source": [
        "### There are 5 types of activation function in Deep Learning : \n",
        "\n",
        "1. Step Function\n",
        "2. Sigmoid Function\n",
        "3. ReLU function\n",
        "4. Leaky ReLU function\n",
        "5. tanh Function"
      ],
      "metadata": {
        "id": "AQUMRxzDPgKl"
      }
    },
    {
      "cell_type": "markdown",
      "source": [
        "### Activation Function - Sigmoiod Function\n",
        "\n",
        "used in output layer"
      ],
      "metadata": {
        "id": "PqoTcrBzQtc3"
      }
    },
    {
      "cell_type": "code",
      "execution_count": 4,
      "metadata": {
        "id": "hbOU_lUXBP92",
        "colab": {
          "base_uri": "https://localhost:8080/"
        },
        "outputId": "cbe296be-5967-496d-e4da-e02b28d89e2a"
      },
      "outputs": [
        {
          "output_type": "stream",
          "name": "stdout",
          "text": [
            "1\n",
            "1\n",
            "11\n"
          ]
        }
      ],
      "source": [
        "import math\n",
        "\n",
        "def sigmoid_func(x):\n",
        "  return math.floor((1/1+math.exp(-x)))\n",
        "\n",
        "lst=[0.856,2.34,-2.34]\n",
        "for i in lst :\n",
        "  print(sigmoid_func(i))"
      ]
    },
    {
      "cell_type": "markdown",
      "source": [
        "### Activation Function - tanh function"
      ],
      "metadata": {
        "id": "R4ikhV8cUEIx"
      }
    },
    {
      "cell_type": "code",
      "source": [
        "def tanh_func(x):\n",
        "  return math.floor(((math.exp(x)-math.exp(-x))/(math.exp(x)+math.exp(-x))))\n",
        "\n",
        "lst=[0.856,2.34,-2.34]\n",
        "for i in lst :\n",
        "  print(tanh_func(i))\n"
      ],
      "metadata": {
        "colab": {
          "base_uri": "https://localhost:8080/"
        },
        "id": "g8DgSXWgTcF5",
        "outputId": "a3508761-e22a-4b92-f1a6-a98e9dfeaab4"
      },
      "execution_count": 6,
      "outputs": [
        {
          "output_type": "stream",
          "name": "stdout",
          "text": [
            "0\n",
            "0\n",
            "-1\n"
          ]
        }
      ]
    },
    {
      "cell_type": "markdown",
      "source": [
        "### activation function - ReLU for hidden layers"
      ],
      "metadata": {
        "id": "7Ow_dmhSVx2H"
      }
    },
    {
      "cell_type": "code",
      "source": [
        "def relu(x):\n",
        "  return max(0,x)\n",
        "\n",
        "\n",
        "lst=[0.856,2.34,-2.34]\n",
        "for i in lst :\n",
        "  print(relu(i))\n"
      ],
      "metadata": {
        "colab": {
          "base_uri": "https://localhost:8080/"
        },
        "id": "oJxeRDXtVAOu",
        "outputId": "96ef76f4-37d9-40fe-fb75-e8b4239c228e"
      },
      "execution_count": 7,
      "outputs": [
        {
          "output_type": "stream",
          "name": "stdout",
          "text": [
            "0.856\n",
            "2.34\n",
            "0\n"
          ]
        }
      ]
    },
    {
      "cell_type": "markdown",
      "source": [
        "### activation function - leakey relu function"
      ],
      "metadata": {
        "id": "390lzMaxWlLd"
      }
    },
    {
      "cell_type": "code",
      "source": [
        "def leaky_relu(x):\n",
        "  return max(0.1*x,x)\n",
        "\n",
        "\n",
        "lst=[0.856,2.34,-2.34]\n",
        "for i in lst :\n",
        "  print(leaky_relu(i))\n"
      ],
      "metadata": {
        "colab": {
          "base_uri": "https://localhost:8080/"
        },
        "id": "HPm3-x9kWjc8",
        "outputId": "9510b72d-3f47-428e-8b43-c7d81a3446bf"
      },
      "execution_count": 10,
      "outputs": [
        {
          "output_type": "stream",
          "name": "stdout",
          "text": [
            "0.856\n",
            "2.34\n",
            "-0.23399999999999999\n"
          ]
        }
      ]
    },
    {
      "cell_type": "code",
      "source": [],
      "metadata": {
        "id": "pxSkBGrCW7Mg"
      },
      "execution_count": null,
      "outputs": []
    }
  ]
}